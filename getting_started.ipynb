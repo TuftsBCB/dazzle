{
 "cells": [
  {
   "cell_type": "markdown",
   "id": "245f02f2-7c5e-4f76-8058-3405c54ab56d",
   "metadata": {},
   "source": [
    "# Getting Started with GRN-VAE\n",
    "\n",
    "This document provides an end-to-end demonstration on how to infer GRN with our implementation of GRN-VAE. "
   ]
  },
  {
   "cell_type": "code",
   "execution_count": 1,
   "id": "757501ef-6bf7-466b-8d47-7b2ebc98e8b5",
   "metadata": {},
   "outputs": [],
   "source": [
    "import numpy as np\n",
    "from data import load_beeline\n",
    "from logger import LightLogger\n",
    "from runner import runGRNVAE, runGRNVAE_ensemble, DEFAULT_GRNVAE_CONFIGS\n",
    "from runner import runDeepSEM, runDeepSEM_ensemble, DEFAULT_DEEPSEM_CONFIGS\n",
    "from evaluate import extract_edges, get_metrics\n",
    "import seaborn as sns\n",
    "import matplotlib.pyplot as plt"
   ]
  },
  {
   "cell_type": "markdown",
   "id": "b1a973fc-0f5c-43aa-aaf6-f230ebfdd4fe",
   "metadata": {},
   "source": [
    "## Model Configurations\n",
    "\n",
    "First you need to define some configs for running the model. Here we provide a default set of parameters in `runner` called `DEFAULT_GRNVAE_CONFIGS`. It comes in the forms of a standard python dictionary so it's very easy to modify as needed. \n",
    "\n",
    "The three key concepts proposed in the GRN-VAE paper are controlled by the following parameters. \n",
    "\n",
    "- `delayed_steps_on_sparse`: Number of delayed steps on introducing the sparse loss. \n",
    "- `dropout_augmentation`: The proportion of data that will be randomly masked as dropout in each traing step.\n",
    "- `train_on_non_zero`: Whether to train the model on non-zero expression data\n",
    "\n",
    "The exact parameters are listed as below for referencing purpose."
   ]
  },
  {
   "cell_type": "code",
   "execution_count": 2,
   "id": "d4c15b3d-9218-4586-acc8-091bf515111c",
   "metadata": {},
   "outputs": [],
   "source": [
    "# For referencing purpose. \n",
    "DEFAULT_GRNVAE_CONFIGS = {\n",
    "    # Train/Test split\n",
    "    'train_split': 1.0,\n",
    "    'train_split_seed': None, \n",
    "    \n",
    "    # Neural Net Definition\n",
    "    'hidden_dim': 128,\n",
    "    'z_dim': 1,\n",
    "    'A_dim': 0,\n",
    "    'train_on_non_zero': True,\n",
    "    'dropout_augmentation': 0.5,\n",
    "    'cuda': True,\n",
    "    \n",
    "    # Loss\n",
    "    'alpha': 100,\n",
    "    'beta': 1,\n",
    "    'h_scale': 0,\n",
    "    'delayed_steps_on_sparse': 30,\n",
    "    \n",
    "    # Neural Net Training\n",
    "    'batch_size': 128,\n",
    "    'n_epochs': 120,\n",
    "    'schedule': [120, 240],\n",
    "    'eval_on_n_steps': 10,\n",
    "    'early_stopping': 0,\n",
    "    'lr_nn': 1e-4,\n",
    "    'lr_adj': 2e-5,\n",
    "    'K1': 1,\n",
    "    'K2': 1\n",
    "}"
   ]
  },
  {
   "cell_type": "markdown",
   "id": "3cdda832-f4b7-4758-b1f9-8f7403ba275d",
   "metadata": {},
   "source": [
    "## Data loading\n",
    "[BEELINE benchmarks](https://github.com/Murali-group/Beeline) could be loaded by the `load_beeline` function, where you specify where to look for data and which benchmark to load. If it's the first time, this function will download the files automatically. \n",
    "\n",
    "The `data` object exported by `load_beeline` is an [annData](https://anndata.readthedocs.io/en/stable/generated/anndata.AnnData.html#anndata.AnnData) object read by [scanpy](https://scanpy.readthedocs.io/en/stable/). The `ground_truth` object includes ground truth edges based on the BEELINE benchmark but it's not required for network inference. \n",
    "\n",
    "When you use GRN-VAE on a real world data to discover noval regulatory relationship, here are a few tips on preparing your data:\n",
    "\n",
    "- You can read in data in any formats but make sure your data has genes in the column/var and cells in the rows/obs. Transpose your data if it's necessary. \n",
    "- Find out the most variable genes. Unlike many traditional algorithm, GRN-VAE has the capacity to run on large amount of data. Therefore you can set the number of variable genes very high. As described in the paper, we used 5,000 for our Hammond experiment. The only reason why we need this gene filter is to help converge the model.\n",
    "- Normalize your data. A simple log transformation is good enough. "
   ]
  },
  {
   "cell_type": "code",
   "execution_count": 3,
   "id": "00b34db8-7a88-4e39-8900-f30261dd203c",
   "metadata": {},
   "outputs": [],
   "source": [
    "# Load data from a BEELINE benchmark\n",
    "data, ground_truth = load_beeline(\n",
    "    data_dir='data', \n",
    "    benchmark_data='hESC', \n",
    "    benchmark_setting='500_STRING'\n",
    ")"
   ]
  },
  {
   "cell_type": "markdown",
   "id": "c4a2fb83-ddad-47ad-b50d-95ab1b8f7ddf",
   "metadata": {},
   "source": [
    "## Model Training\n",
    "\n",
    "Model training is simple with the `runGRNVAE` function. As said above, if ground truth is not available, just set `ground_truth` to be `None`."
   ]
  },
  {
   "cell_type": "code",
   "execution_count": 4,
   "id": "edbe4869-ad1f-4061-badb-70106278c8eb",
   "metadata": {
    "tags": []
   },
   "outputs": [
    {
     "name": "stderr",
     "output_type": "stream",
     "text": [
      "100%|██████████| 120/120 [00:19<00:00,  6.22it/s]\n"
     ]
    }
   ],
   "source": [
    "logger = LightLogger()\n",
    "# runGRNVAE initializes and trains a GRNVAE model with the configs specified. \n",
    "vae, adjs = runGRNVAE(\n",
    "    data.X, DEFAULT_GRNVAE_CONFIGS, ground_truth=ground_truth, logger=logger)"
   ]
  },
  {
   "cell_type": "markdown",
   "id": "f875fc9a-65cd-4400-aada-d91c89b6c9ee",
   "metadata": {},
   "source": [
    "The learned adjacency matrix could be obtained by the `get_adj()` method. For BEELINE benchmarks, you can get the performance metrics of this run using the `get_metrics` function. "
   ]
  },
  {
   "cell_type": "code",
   "execution_count": 5,
   "id": "d675a27c-57b5-4ed8-b418-d0a6182e9381",
   "metadata": {},
   "outputs": [
    {
     "data": {
      "text/plain": [
       "{'AUPR': 0.05958849485016752,\n",
       " 'AUPRR': 2.4774368161948437,\n",
       " 'EP': 504,\n",
       " 'EPR': 4.922288423345506}"
      ]
     },
     "execution_count": 5,
     "metadata": {},
     "output_type": "execute_result"
    }
   ],
   "source": [
    "A = vae.get_adj()\n",
    "get_metrics(A, ground_truth)"
   ]
  },
  {
   "cell_type": "markdown",
   "id": "d195e196-6059-4860-bbc5-ce56e9de014a",
   "metadata": {},
   "source": [
    "We also provide our own implementation of [DeepSEM](https://www.nature.com/articles/s43588-021-00099-8). You can execute DeepSEM and the ensemble version of it using `runDeepSEM` and `runDeepSEM_ensemble`."
   ]
  },
  {
   "cell_type": "code",
   "execution_count": null,
   "id": "820d4354-7f3a-4a99-b041-1f72f65f5bbc",
   "metadata": {},
   "outputs": [],
   "source": []
  }
 ],
 "metadata": {
  "kernelspec": {
   "display_name": "grn",
   "language": "python",
   "name": "grn"
  },
  "language_info": {
   "codemirror_mode": {
    "name": "ipython",
    "version": 3
   },
   "file_extension": ".py",
   "mimetype": "text/x-python",
   "name": "python",
   "nbconvert_exporter": "python",
   "pygments_lexer": "ipython3",
   "version": "3.10.8"
  }
 },
 "nbformat": 4,
 "nbformat_minor": 5
}
